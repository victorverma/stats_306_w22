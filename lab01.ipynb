{
  "nbformat": 4,
  "nbformat_minor": 0,
  "metadata": {
    "colab": {
      "name": "Copy of lab01.ipynb",
      "provenance": [],
      "collapsed_sections": [],
      "include_colab_link": true
    },
    "kernelspec": {
      "name": "ir",
      "display_name": "R"
    },
    "language_info": {
      "name": "R"
    }
  },
  "cells": [
    {
      "cell_type": "markdown",
      "metadata": {
        "id": "view-in-github",
        "colab_type": "text"
      },
      "source": [
        "<a href=\"https://colab.research.google.com/github/victorverma/stats_306_w22/blob/main/lab01.ipynb\" target=\"_parent\"><img src=\"https://colab.research.google.com/assets/colab-badge.svg\" alt=\"Open In Colab\"/></a>"
      ]
    },
    {
      "cell_type": "markdown",
      "source": [
        "## Lab 1 (January 10):\n",
        "### Introduction and Data Visualization 1\n",
        "\n",
        "Course page: https://ambujtewari.github.io/stats306-winter2022/\n",
        "\n",
        "Lab page: https://bosafoagyare.netlify.app/courses/stats306-w22/"
      ],
      "metadata": {
        "id": "yDSOB3XlI5vF"
      }
    },
    {
      "cell_type": "markdown",
      "source": [
        "# 1. Introduction to R\n",
        "\n",
        "## 1.1 R Packages\n",
        " "
      ],
      "metadata": {
        "id": "4FWhGBM2JKoq"
      }
    },
    {
      "cell_type": "code",
      "source": [
        "install.packages(\"gapminder\") ## Use the install.packages(\"<PACKAGE NAME>\") command to install packages in R\n",
        "library(gapminder)            ## To load a package (already installed) use the library(<PACKAGE NAME>) command\n",
        "library(tidyverse)            ## You can load lots of packages together as library(<PACKAGE1>, <PACKAGE2>, <PACKAGE3>)"
      ],
      "metadata": {
        "colab": {
          "base_uri": "https://localhost:8080/"
        },
        "id": "nwp6dA_7I_Kn",
        "outputId": "4d499a1d-13cb-44fa-8c2f-49b673095a29"
      },
      "execution_count": null,
      "outputs": [
        {
          "output_type": "stream",
          "name": "stderr",
          "text": [
            "Installing package into ‘/usr/local/lib/R/site-library’\n",
            "(as ‘lib’ is unspecified)\n",
            "\n"
          ]
        }
      ]
    },
    {
      "cell_type": "code",
      "source": [
        "library(gapminder, tidyverse)"
      ],
      "metadata": {
        "id": "PQdJQK70KeZd"
      },
      "execution_count": null,
      "outputs": []
    },
    {
      "cell_type": "markdown",
      "source": [
        "### 1.2 Assignment and operations"
      ],
      "metadata": {
        "id": "FiGI9fDgMMwP"
      }
    },
    {
      "cell_type": "code",
      "source": [
        "#variable assignments\n",
        "u <- 3              ## this is considered standard\n",
        "v = -2              ## this is accepted\n",
        "x <- 6\n",
        "y <- 'hello world'  ## 'hello world' is a string\n",
        "y <- \"hello world\"  ## also double quotes\n",
        "z <- TRUE           ## boolean variable (also T/F can be used for TRUE/FALSE but not True/False) \n",
        "\n",
        "#Few examples of operation\n",
        "u + x\n",
        "x/v"
      ],
      "metadata": {
        "id": "sCzNfFEmMTVE"
      },
      "execution_count": null,
      "outputs": []
    },
    {
      "cell_type": "markdown",
      "source": [
        "Challenge: \n",
        "- add x and y\n",
        "- add x and z   \n",
        "What do you observe?"
      ],
      "metadata": {
        "id": "mri8kKxzOV8e"
      }
    },
    {
      "cell_type": "code",
      "source": [
        "# your code here"
      ],
      "metadata": {
        "id": "XHpR0UCBOnBK"
      },
      "execution_count": null,
      "outputs": []
    },
    {
      "cell_type": "markdown",
      "source": [
        "## 1.3 Using functions"
      ],
      "metadata": {
        "id": "dkHxBzQyQSYz"
      }
    },
    {
      "cell_type": "code",
      "source": [
        "?print()    ## use '?' to look up documentation of functions"
      ],
      "metadata": {
        "colab": {
          "base_uri": "https://localhost:8080/",
          "height": 34
        },
        "id": "MUT1leY0O1nG",
        "outputId": "aae14063-4b0c-4301-829c-893e61a4fa7c"
      },
      "execution_count": null,
      "outputs": [
        {
          "output_type": "display_data",
          "data": {
            "text/plain": [
              "[1] 2"
            ],
            "text/latex": "2",
            "text/markdown": "2",
            "text/html": [
              "2"
            ]
          },
          "metadata": {}
        }
      ]
    },
    {
      "cell_type": "code",
      "source": [
        "abs(v)\n",
        "round(sqrt(8), digits = 3)"
      ],
      "metadata": {
        "colab": {
          "base_uri": "https://localhost:8080/",
          "height": 52
        },
        "id": "l7z0_ZeARqPm",
        "outputId": "0b3bf4c4-bf76-47d5-8bac-f5960ba60a21"
      },
      "execution_count": null,
      "outputs": [
        {
          "output_type": "display_data",
          "data": {
            "text/plain": [
              "[1] 2"
            ],
            "text/latex": "2",
            "text/markdown": "2",
            "text/html": [
              "2"
            ]
          },
          "metadata": {}
        },
        {
          "output_type": "display_data",
          "data": {
            "text/plain": [
              "[1] 2.828"
            ],
            "text/latex": "2.828",
            "text/markdown": "2.828",
            "text/html": [
              "2.828"
            ]
          },
          "metadata": {}
        }
      ]
    },
    {
      "cell_type": "code",
      "source": [
        "l <- 5; b <- 3    ## Not recommended for readability\n",
        "rect_area = l * b\n",
        "print(rect_area)"
      ],
      "metadata": {
        "colab": {
          "base_uri": "https://localhost:8080/"
        },
        "id": "BBrd0lZtRmQa",
        "outputId": "ea6f7118-91dd-4d72-da57-4f12fbc76b1b"
      },
      "execution_count": null,
      "outputs": [
        {
          "output_type": "stream",
          "name": "stdout",
          "text": [
            "[1] 15\n"
          ]
        }
      ]
    },
    {
      "cell_type": "markdown",
      "source": [
        "Challenge: print the volume of a cylinder of radius 5 cm and height 8 cm.  \n",
        "_Hint_: volume = $\\pi r^2h$\n"
      ],
      "metadata": {
        "id": "-kKi_DQ2R8gF"
      }
    },
    {
      "cell_type": "code",
      "source": [
        "## your code here."
      ],
      "metadata": {
        "id": "SQan-QtTQ6o-"
      },
      "execution_count": null,
      "outputs": []
    },
    {
      "cell_type": "markdown",
      "source": [
        "## 1.4 Vectors"
      ],
      "metadata": {
        "id": "8EPdIY--TF1l"
      }
    },
    {
      "cell_type": "code",
      "source": [
        "## Creating vector\n",
        "vec1 <- c(1, 2, 3, 4, 5, 6, 7, 8)      ## using the combine 'c()' function\n",
        "vec2 <- 1:8                            ## using sequencing of difference 1\n",
        "vec3 <- seq(from = 1, to = 8, by = 1)  ## using the seq command. Gives flexibity in steps"
      ],
      "metadata": {
        "id": "W5qtynLZTLr4"
      },
      "execution_count": null,
      "outputs": []
    },
    {
      "cell_type": "code",
      "source": [
        "print(vec1)\n",
        "print(vec2)\n",
        "print(vec3)"
      ],
      "metadata": {
        "id": "gqSnLkFTT1Uy"
      },
      "execution_count": null,
      "outputs": []
    },
    {
      "cell_type": "code",
      "source": [
        "## Extra\n",
        "vec4 <- c(\"a\", \"b\", \"c\", \"d\") ## lowercase letters\n",
        "vec5 <- letters[1:4]          ## LETTERS for uppercase\n",
        "vec6 <- c(vec4, \"e,\", \"f\", c(\"i\", \"j\"))\n",
        "print(vec4)\n",
        "print(vec5)\n",
        "print(vec6)\n",
        "\n"
      ],
      "metadata": {
        "id": "KVKM6aprUtIx"
      },
      "execution_count": null,
      "outputs": []
    },
    {
      "cell_type": "markdown",
      "source": [
        "Challenge: why is one of the commands below not working?\n",
        "- `vec7 <- c(\"a\", \"b\", 4)`\n",
        "- `vec8 <- c(\"a\", \"b\", \"4)`"
      ],
      "metadata": {
        "id": "pw7rZl4ZWhXq"
      }
    },
    {
      "cell_type": "code",
      "source": [
        "## Try running here"
      ],
      "metadata": {
        "id": "l6L4RsTYXuWi"
      },
      "execution_count": null,
      "outputs": []
    },
    {
      "cell_type": "code",
      "source": [
        "## Selecting Vector Elements\n",
        "vec1[2]              ## extract element 2 (position 2)\n",
        "vec1[-2]             ## extract all but element 2\n",
        "vec6[-(2:4)]         ## what do you think is happening\n",
        "vec6[c(1, 3, 6)]     ## what about this?\n",
        "vec6[vec6 %in% vec4] ## intersection operator. Note larger vector before smaller\n"
      ],
      "metadata": {
        "id": "PTAG0vmgYKSZ"
      },
      "execution_count": null,
      "outputs": []
    },
    {
      "cell_type": "code",
      "source": [
        "## Basic vetor algebra\n",
        "vec1 + 4      ## each element gets increment by 4\n",
        "vec1 + vec2   ## adds vectors element-wise\n",
        "vec1*vec2     ## the element-wise product of vectors\n",
        "vec1%*%vec2   ## the dot product of vectors (should be conformable)\n",
        "\n"
      ],
      "metadata": {
        "id": "SsIIO1YeZBdH"
      },
      "execution_count": null,
      "outputs": []
    },
    {
      "cell_type": "markdown",
      "source": [
        "Challenge: Exponentiate each element of `vec1` by 3"
      ],
      "metadata": {
        "id": "o75CueFbe7Pj"
      }
    },
    {
      "cell_type": "code",
      "source": [
        "## your code here\n"
      ],
      "metadata": {
        "id": "4BfqWNZ0fJKa"
      },
      "execution_count": null,
      "outputs": []
    },
    {
      "cell_type": "code",
      "source": [
        "## Useful Vector Functions\n",
        "length(vec1)\n",
        "min(vec1)\n",
        "max(vec1)\n",
        "mean(vec1)\n",
        "sum(vec1)"
      ],
      "metadata": {
        "id": "IFeWOHz1bUew"
      },
      "execution_count": null,
      "outputs": []
    },
    {
      "cell_type": "markdown",
      "source": [
        "## 1.5 Logical Operators"
      ],
      "metadata": {
        "id": "H0wmqPtgdXGy"
      }
    },
    {
      "cell_type": "code",
      "source": [
        "## Negation\n",
        "a = TRUE\n",
        "b = c(TRUE, FALSE)\n",
        "\n",
        "!a      ## use '!' for negation (not) in R\n",
        "!b"
      ],
      "metadata": {
        "id": "XL29N0BPdalA"
      },
      "execution_count": null,
      "outputs": []
    },
    {
      "cell_type": "code",
      "source": [
        "## comparison\n",
        "x = c(1, 3, 5)\n",
        "y = c(2, 3, 4)\n",
        "\n",
        "x == y   ## element-wise equality\n",
        "x != y   ## what does this do?\n",
        "x > y    ## greater than\n",
        "x >= y   ## greater than or equal to"
      ],
      "metadata": {
        "id": "KmxrYMBkd4o_"
      },
      "execution_count": null,
      "outputs": []
    },
    {
      "cell_type": "code",
      "source": [
        "## 'and' and 'or'\n",
        "(5>2) | (1 == 0) ## what do you think?\n",
        "(5>2) & (1 == 0) ## and this?"
      ],
      "metadata": {
        "id": "c8ZyQDQzfnkz"
      },
      "execution_count": null,
      "outputs": []
    },
    {
      "cell_type": "markdown",
      "source": [
        "**Useful**: More about base R can be found here: [base R cheat sheet](https://github.com/rstudio/cheatsheets/blob/main/base-r.pdf)"
      ],
      "metadata": {
        "id": "bmEhDcfThtMw"
      }
    },
    {
      "cell_type": "markdown",
      "source": [
        "# 2. Data\n",
        "## 2.1 Creating Data"
      ],
      "metadata": {
        "id": "wwXMN-XfioLQ"
      }
    },
    {
      "cell_type": "code",
      "source": [
        "#create my own data set\n",
        "pets = tibble(\n",
        "  name   = c('Nikita', 'Simons', 'Pockets', 'Eres'),    \n",
        "  age    = sample(x = 2:12, size = 4, replace = FALSE), ## randomly sample 4 numbers from 2 to 12\n",
        "  weight = c(24, 16, 12, 18),                          \n",
        "  class  = c('dog', 'cat', 'cat', 'dog')\n",
        ")\n",
        "\n",
        "## This is an example of a rectangular data. Each row is a vector of same type of elements"
      ],
      "metadata": {
        "id": "hx5uA4amjkwR"
      },
      "execution_count": null,
      "outputs": []
    },
    {
      "cell_type": "code",
      "source": [
        "pets"
      ],
      "metadata": {
        "id": "zarRNYqpmv5D"
      },
      "execution_count": null,
      "outputs": []
    },
    {
      "cell_type": "code",
      "source": [
        "print(pets)"
      ],
      "metadata": {
        "id": "xIhmtsHum1dX"
      },
      "execution_count": null,
      "outputs": []
    },
    {
      "cell_type": "markdown",
      "source": [
        "## 2.2 Subsetting the data"
      ],
      "metadata": {
        "id": "J16LfuEMnHK0"
      }
    },
    {
      "cell_type": "code",
      "source": [
        "## Using [row, column]\n",
        "pets[2,3]           ## row 2, column 3 (by position)\n",
        "pets[, 1]           ## all rows, column 1 (this is used to subset an entire variable)\n",
        "pets[1, ]           ## all columns, row 1 (this is used to subset a record)\n"
      ],
      "metadata": {
        "id": "cKI3UelnnO5q"
      },
      "execution_count": null,
      "outputs": []
    },
    {
      "cell_type": "code",
      "source": [
        "pets[c(1,4), 1:3]  ## What is happening?"
      ],
      "metadata": {
        "id": "GLYNAg68oJgC"
      },
      "execution_count": null,
      "outputs": []
    },
    {
      "cell_type": "code",
      "source": [
        "## We can also subset a column using the dollar ($) sign\n",
        "pets$name\n",
        "pets$class"
      ],
      "metadata": {
        "id": "5iozONIKoZa1"
      },
      "execution_count": null,
      "outputs": []
    },
    {
      "cell_type": "markdown",
      "source": [
        "## 2.3 Creating new columns, changing existing data and adding new rows (records)"
      ],
      "metadata": {
        "id": "amUTWGD7o66o"
      }
    },
    {
      "cell_type": "code",
      "source": [
        "## Let's add age and weight as a new column\n",
        "pets$age_weight = pets$age + pets$weight\n",
        "print(pets)"
      ],
      "metadata": {
        "id": "pb-8diaJpScX"
      },
      "execution_count": null,
      "outputs": []
    },
    {
      "cell_type": "code",
      "source": [
        "## We got a new pet by name Scooby-Doo. Let's welcome her to the family\n",
        "new_pet = tibble(\n",
        "  name       = \"Scooby-Doo\",    \n",
        "  age        = 5, \n",
        "  weight     = 10,                          \n",
        "  class      = 'dog',\n",
        "  age_weight = age + weight\n",
        ")\n",
        "\n",
        "## we use the rbind() function to add records\n",
        "## note that this will work ONLY IF the new record (tibble) has exact same column names anc types as the old data\n",
        "## similarly, we can use colbind to add a new column\n",
        "\n",
        "pets_fam = rbind(pets, new_pet)\n",
        "print(pets_fam)"
      ],
      "metadata": {
        "id": "XxGxjySjpxaS"
      },
      "execution_count": null,
      "outputs": []
    },
    {
      "cell_type": "markdown",
      "source": [
        "## 3. Visualization"
      ],
      "metadata": {
        "id": "yJ4qqmKxiwNj"
      }
    },
    {
      "cell_type": "code",
      "source": [
        "## Now we load our gapminder data\n",
        "dat = gapminder\n",
        "head(dat) ## get first 6 rows (record). To get any number use head(dat, n = <NUMBER>)\n"
      ],
      "metadata": {
        "id": "IbIblVTai1e1"
      },
      "execution_count": null,
      "outputs": []
    },
    {
      "cell_type": "code",
      "source": [
        "tail(dat) ## get last 6 rows"
      ],
      "metadata": {
        "id": "4FWdjPNZtLo3"
      },
      "execution_count": null,
      "outputs": []
    },
    {
      "cell_type": "markdown",
      "source": [
        "## 3.1 Plotting with ggplot2"
      ],
      "metadata": {
        "id": "v6crf0p9tX-E"
      }
    },
    {
      "cell_type": "markdown",
      "source": [
        "All grammatical elements  \n",
        "\n",
        "| Element| Description|\n",
        "|:---   |:---|\n",
        "|Data    | The dataset being plotted|\n",
        "|Aesthetics | The scales onto which we map our data|\n",
        "|Geometries | The visual elements used for our data|\n",
        "|Facets | Plotting small multiples|\n",
        "|Statistics | Representations of our data to aid understanding|\n",
        "|Coordinates | The space on which the data will be plotted|\n",
        "|Themes | All non-data ink|\n",
        "\n",
        "_Source: DataCamp_\n",
        "\n",
        "Syntax:\n",
        "> `ggplot(data = <DATA>) +`   \n",
        ">  &nbsp; &nbsp;&nbsp;&nbsp;`<GEOM_FUNCTION>( `  \n",
        "> &nbsp;&nbsp;&nbsp;&nbsp;&nbsp;&nbsp;&nbsp;&nbsp;&nbsp;&nbsp;&nbsp;&nbsp;`mapping = aes(<MAPPINGS>),`  \n",
        ">&nbsp;&nbsp;&nbsp;&nbsp;&nbsp;&nbsp;&nbsp;&nbsp;&nbsp;&nbsp;&nbsp;&nbsp;`stat = <STAT>, `  \n",
        ">&nbsp;&nbsp;&nbsp;&nbsp;&nbsp;&nbsp;&nbsp;&nbsp;&nbsp;&nbsp;&nbsp;&nbsp;`position = <POSITION>`  \n",
        ">  &nbsp; &nbsp;&nbsp;&nbsp;`) + `   \n",
        "> &nbsp; &nbsp;&nbsp;&nbsp; `<COORDINATE_FUNCTION> + `   \n",
        "> &nbsp; &nbsp;&nbsp;&nbsp;` <FACET_FUNCTION> +`  \n",
        ">  &nbsp; &nbsp;&nbsp;&nbsp;`<LABS>`   \n",
        "\n",
        "\n",
        "**We are going to look the first three today**"
      ],
      "metadata": {
        "id": "LCXzaIltuM0b"
      }
    },
    {
      "cell_type": "code",
      "source": [
        "## Scatter plot of Life Expectancy against GDP per capita\n",
        "ggplot(data = dat) + \n",
        "  geom_point(mapping = aes(x = lifeExp, y = gdpPercap)) + \n",
        "  labs(x     = \"Life Expectancy\",\n",
        "       y     = \"GDP per capita\",\n",
        "       title = \"Countries' GDP per capita against Life expectancy\")"
      ],
      "metadata": {
        "id": "gV8y-TU6th4w"
      },
      "execution_count": null,
      "outputs": []
    },
    {
      "cell_type": "code",
      "source": [
        "## Let's differentiate plots by continent\n",
        "ggplot(data = dat) + \n",
        "  geom_point(mapping = aes(x = lifeExp, y = gdpPercap, color = continent)) + \n",
        "  labs(x     = \"Life Expectancy\",\n",
        "       y     = \"GDP per capita\",\n",
        "       title = \"Countries' GDP per capita against Life expectancy\")"
      ],
      "metadata": {
        "id": "l8xGX5sFzsAl"
      },
      "execution_count": null,
      "outputs": []
    },
    {
      "cell_type": "code",
      "source": [
        "## What if we did same by year? What do you observe?\n",
        "ggplot(data = dat) + \n",
        "  geom_point(mapping = aes(x = lifeExp, y = gdpPercap, color = year)) + \n",
        "  labs(x     = \"Life Expectancy\",\n",
        "       y     = \"GDP per capita\",\n",
        "       title = \"Countries' GDP per capita against Life expectancy\")"
      ],
      "metadata": {
        "id": "qQnW7e3u0zns"
      },
      "execution_count": null,
      "outputs": []
    },
    {
      "cell_type": "code",
      "source": [
        "## Could we get a better background (theme)? \n",
        "ggplot(data = dat) + \n",
        "  geom_point(mapping = aes(x = lifeExp, y = gdpPercap, color = continent)) + \n",
        "  labs(x     = \"Life Expectancy\",\n",
        "       y     = \"GDP per capita\",\n",
        "       title = \"Countries' GDP per capita against Life expectancy\") +\n",
        "  theme_bw()"
      ],
      "metadata": {
        "id": "IQ7EPuEe1at1"
      },
      "execution_count": null,
      "outputs": []
    },
    {
      "cell_type": "markdown",
      "source": [
        "## 4. Excercise"
      ],
      "metadata": {
        "id": "I1eNt6omi67v"
      }
    },
    {
      "cell_type": "markdown",
      "source": [
        "1. From the `pets fam` data, add two pets of your liking. We realised `Nikita` is actually 2 year younger than her age. How would you rectify this? How would you filter the dataset to extract only dogs?  \n",
        "\n",
        "2. From the `gapminder` data, explore more aesthetics like size, shape etc aside from color. Make a scatter plot of any two continuous variables of your liking. How would you plot the data for only \"`Europe`an\" countries? What about only the `United States`?\n",
        "\n"
      ],
      "metadata": {
        "id": "gzNgJluw1MTV"
      }
    },
    {
      "cell_type": "code",
      "source": [
        ""
      ],
      "metadata": {
        "id": "XJQDLKxf3eNH"
      },
      "execution_count": null,
      "outputs": []
    }
  ]
}